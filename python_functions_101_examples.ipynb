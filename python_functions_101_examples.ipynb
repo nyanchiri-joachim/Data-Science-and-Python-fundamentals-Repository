{
 "cells": [
  {
   "cell_type": "markdown",
   "metadata": {},
   "source": [
    "# Python functions 101"
   ]
  },
  {
   "cell_type": "markdown",
   "metadata": {},
   "source": [
    "### Built-in functions"
   ]
  },
  {
   "cell_type": "code",
   "execution_count": null,
   "metadata": {},
   "outputs": [
    {
     "name": "stdout",
     "output_type": "stream",
     "text": [
      "\n",
      "Welcome to Python 3.11's help utility!\n",
      "\n",
      "If this is your first time using Python, you should definitely check out\n",
      "the tutorial on the internet at https://docs.python.org/3.11/tutorial/.\n",
      "\n",
      "Enter the name of any module, keyword, or topic to get help on writing\n",
      "Python programs and using Python modules.  To quit this help utility and\n",
      "return to the interpreter, just type \"quit\".\n",
      "\n",
      "To get a list of available modules, keywords, symbols, or topics, type\n",
      "\"modules\", \"keywords\", \"symbols\", or \"topics\".  Each module also comes\n",
      "with a one-line summary of what it does; to list the modules whose name\n",
      "or summary contain a given string such as \"spam\", type \"modules spam\".\n",
      "\n",
      "help> round\n",
      "Help on built-in function round in module builtins:\n",
      "\n",
      "round(number, ndigits=None)\n",
      "    Round a number to a given precision in decimal digits.\n",
      "    \n",
      "    The return value is an integer if ndigits is omitted or None.  Otherwise\n",
      "    the return value has the same type as the number.  ndigits may be negative.\n",
      "\n"
     ]
    }
   ],
   "source": [
    "#Start a help utility session\n",
    "help()"
   ]
  },
  {
   "cell_type": "markdown",
   "metadata": {},
   "source": [
    "This feature is a useful tool for getting documentation and assistance on various aspects of Python. We can either type the function name in the console above or go directly to the documentation by including the function name as an argument in the `help` function."
   ]
  },
  {
   "cell_type": "code",
   "execution_count": null,
   "metadata": {},
   "outputs": [],
   "source": [
    "help(round)"
   ]
  },
  {
   "cell_type": "code",
   "execution_count": null,
   "metadata": {},
   "outputs": [],
   "source": [
    "#round to 2 decimal places\n",
    "round(253.45367,2)"
   ]
  },
  {
   "cell_type": "code",
   "execution_count": null,
   "metadata": {},
   "outputs": [],
   "source": [
    "#round without specifying ndigits value\n",
    "round(253.45367)"
   ]
  },
  {
   "cell_type": "code",
   "execution_count": null,
   "metadata": {},
   "outputs": [],
   "source": [
    "#create the calc_forest_area function \n",
    "def calc_forest_area(length, width): #define the function and the arguments\n",
    "    area = length * width            #function instructions\n",
    "    return area                      #return statement"
   ]
  },
  {
   "cell_type": "markdown",
   "metadata": {},
   "source": [
    "### Call the function"
   ]
  },
  {
   "cell_type": "markdown",
   "metadata": {},
   "source": [
    "Assume we wanted to use our newly created function to determine the area of the `Zambesi forest` which has a length of 300 kilometres and a width of 5000 kilometres."
   ]
  },
  {
   "cell_type": "code",
   "execution_count": null,
   "metadata": {},
   "outputs": [],
   "source": [
    "calc_forest_area(300, 5000)"
   ]
  },
  {
   "cell_type": "code",
   "execution_count": null,
   "metadata": {},
   "outputs": [],
   "source": [
    "zambesi_forest = calc_forest_area(300, 5000)"
   ]
  },
  {
   "cell_type": "markdown",
   "metadata": {},
   "source": [
    "## Doc strings"
   ]
  },
  {
   "cell_type": "code",
   "execution_count": null,
   "metadata": {},
   "outputs": [],
   "source": [
    "#Create the calc_forest_area function with docstrings\n",
    "def calc_forest_area(length, width):\n",
    "    \"\"\"\n",
    "    Calculates the area of a given forest by multiplying its length and width\n",
    "    \n",
    "    Parameters\n",
    "    -------\n",
    "    length: The length of the forest in unit\n",
    "    width: The width of the forest in unit\n",
    "    \n",
    "    Return\n",
    "    -------\n",
    "    An integer that represents the area of the forest in unit squared\n",
    "    \n",
    "    \"\"\"\n",
    "    area = length * width\n",
    "    return area"
   ]
  },
  {
   "cell_type": "code",
   "execution_count": null,
   "metadata": {},
   "outputs": [],
   "source": [
    "#print the docstring for the calc_forest_area function using the __doc__ attribute\n",
    "calc_forest_area.__doc__"
   ]
  },
  {
   "cell_type": "code",
   "execution_count": null,
   "metadata": {},
   "outputs": [],
   "source": [
    "#print the docstring for the calc_forest_area function using the help() function\n",
    "help(calc_forest_area)"
   ]
  },
  {
   "cell_type": "markdown",
   "metadata": {},
   "source": [
    "## Scope"
   ]
  },
  {
   "cell_type": "markdown",
   "metadata": {},
   "source": [
    "### Local variable\n"
   ]
  },
  {
   "cell_type": "code",
   "execution_count": null,
   "metadata": {},
   "outputs": [],
   "source": [
    "#Create the calc_forest_area function\n",
    "def calc_forest_area(length, width):\n",
    "    \"\"\"\n",
    "    Calculates the area of a given forest by multiplying its length and width\n",
    "    \n",
    "    Parameters\n",
    "    -------\n",
    "    length: The length of the forest in unit\n",
    "    width: The width of the forest in unit\n",
    "    \n",
    "    Return\n",
    "    -------\n",
    "    An integer that represents the area of the forest in unit squared\n",
    "    \n",
    "    \"\"\"\n",
    "    area = length * width\n",
    "    return area\n",
    "\n",
    "#Print the area local variable\n",
    "print(area)"
   ]
  },
  {
   "cell_type": "code",
   "execution_count": null,
   "metadata": {},
   "outputs": [],
   "source": [
    "#Create the calc_forest_area function\n",
    "def calc_forest_area(length, width):\n",
    "    \"\"\"\n",
    "    Calculates the area of a given forest by multiplying its length and width\n",
    "    \n",
    "    Parameters\n",
    "    -------\n",
    "    length: The length of the forest in unit\n",
    "    width: The width of the forest in unit\n",
    "    \n",
    "    Return\n",
    "    -------\n",
    "    An integer that represents the area of the forest in unit squared\n",
    "    \n",
    "    \"\"\"\n",
    "    area = length * width\n",
    "    print(area) #print the local variable area when the function is used\n",
    "    return area\n",
    "\n",
    "#Use the function\n",
    "zambesi_forest = calc_forest_area(300, 5000)"
   ]
  },
  {
   "cell_type": "markdown",
   "metadata": {},
   "source": [
    "### Global variable"
   ]
  },
  {
   "cell_type": "code",
   "execution_count": null,
   "metadata": {},
   "outputs": [],
   "source": [
    "#Create the calc_forest_area function\n",
    "def calc_forest_area(length, width):\n",
    "    \"\"\"\n",
    "    Calculates the area of a given forest by multiplying its length and width\n",
    "    \n",
    "    Parameters\n",
    "    -------\n",
    "    length: The length of the forest in unit\n",
    "    width: The width of the forest in unit\n",
    "    \n",
    "    Return\n",
    "    -------\n",
    "    An integer that represents the area of the forest in unit squared\n",
    "    \n",
    "    \"\"\"\n",
    "    area = length * width\n",
    "    return area\n",
    "\n",
    "zambesi_forest = calc_forest_area(300, 5000)\n",
    "\n",
    "#Print the zambesi_forest global variable\n",
    "print(zambesi_forest)"
   ]
  }
 ],
 "metadata": {
  "kernelspec": {
   "display_name": "Python 3 (ipykernel)",
   "language": "python",
   "name": "python3"
  },
  "language_info": {
   "codemirror_mode": {
    "name": "ipython",
    "version": 3
   },
   "file_extension": ".py",
   "mimetype": "text/x-python",
   "name": "python",
   "nbconvert_exporter": "python",
   "pygments_lexer": "ipython3",
   "version": "3.11.5"
  }
 },
 "nbformat": 4,
 "nbformat_minor": 2
}
