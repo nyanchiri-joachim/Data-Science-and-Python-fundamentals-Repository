{
 "cells": [
  {
   "cell_type": "markdown",
   "metadata": {
    "id": "-wLBoOzuICV2"
   },
   "source": [
    "# Introduction to lambda functions"
   ]
  },
  {
   "cell_type": "markdown",
   "metadata": {},
   "source": [
    "## Learning objectives"
   ]
  },
  {
   "cell_type": "markdown",
   "metadata": {
    "id": "r7uKNrwPIuS0"
   },
   "source": [
    "\n",
    "```python\n",
    "    lambda arguments : expression\n",
    "```"
   ]
  },
  {
   "cell_type": "markdown",
   "metadata": {
    "id": "rAIJT4jtshNF"
   },
   "source": [
    "### Example 1"
   ]
  },
  {
   "cell_type": "code",
   "execution_count": 1,
   "metadata": {
    "id": "s4m9I4ilshNN"
   },
   "outputs": [],
   "source": [
    "def double (x): # Classic function to multiply an input by 2\n",
    "    return x*2"
   ]
  },
  {
   "cell_type": "code",
   "execution_count": 2,
   "metadata": {
    "colab": {
     "base_uri": "https://localhost:8080/"
    },
    "id": "qEpT-84pshNd",
    "outputId": "40b7e15e-41bc-4cb9-d7e3-547f8e285986"
   },
   "outputs": [
    {
     "name": "stdout",
     "output_type": "stream",
     "text": [
      "<function <lambda> at 0x000001D3E3FBD300>\n",
      "10\n"
     ]
    }
   ],
   "source": [
    "\n",
    "# Define a lambda function and assign it to the variable 'double_lambda'.\n",
    "double_lambda = lambda x: x*2\n",
    "\n",
    "# Note: At this point, 'double_lambda' is a function object. It holds the lambda function we defined.\n",
    "# If we print 'double_lambda', it won't display the function's output but rather a reference to the function object in memory.\n",
    "print(double_lambda)\n",
    "\n",
    "# To actually use the lambda function and get a result, we need to call 'double_lambda' with an argument.\n",
    "# For example, let's call 'double_lambda' with the value 5 and print the result.\n",
    "print(double_lambda(5))  # This will compute 5 * 2 and print the result.\n",
    "\n",
    "# Expected output: 10"
   ]
  },
  {
   "cell_type": "code",
   "execution_count": 3,
   "metadata": {
    "colab": {
     "base_uri": "https://localhost:8080/"
    },
    "id": "UstPQlcrshNu",
    "outputId": "f19c54d4-0930-4ced-f914-d76704aa60ff"
   },
   "outputs": [
    {
     "data": {
      "text/plain": [
       "10"
      ]
     },
     "execution_count": 3,
     "metadata": {},
     "output_type": "execute_result"
    }
   ],
   "source": [
    "(lambda x:x * 2)(5) # Note the use of additional brackets after the lambda definition. "
   ]
  },
  {
   "cell_type": "markdown",
   "metadata": {
    "id": "DiubClc4shNz"
   },
   "source": [
    "### Example 2"
   ]
  },
  {
   "cell_type": "code",
   "execution_count": 4,
   "metadata": {
    "id": "aEfQ5Lk1shN1"
   },
   "outputs": [
    {
     "name": "stdout",
     "output_type": "stream",
     "text": [
      "25\n"
     ]
    }
   ],
   "source": [
    "squared = lambda x: x**2 # \"**2\" indicates an exponent --> x^2\n",
    "\n",
    "print(squared(5))"
   ]
  },
  {
   "cell_type": "markdown",
   "metadata": {
    "id": "N3SqHoUhshOB"
   },
   "source": [
    "### Example 3"
   ]
  },
  {
   "cell_type": "code",
   "execution_count": 5,
   "metadata": {
    "id": "KMKOEog7shOB"
   },
   "outputs": [
    {
     "name": "stdout",
     "output_type": "stream",
     "text": [
      "9\n"
     ]
    }
   ],
   "source": [
    "raise_to_power = lambda x, y: x**y # With lambdas, you can specify multiple arguments\n",
    "\n",
    "print(raise_to_power(3,2))"
   ]
  },
  {
   "cell_type": "markdown",
   "metadata": {
    "id": "5lJVqKlIshOX"
   },
   "source": [
    "## Mapping\n",
    "```python\n",
    "    map (lambda v1: expression, iterable-sequences) \n",
    "```"
   ]
  },
  {
   "cell_type": "markdown",
   "metadata": {
    "id": "7JuR_7DJshOb"
   },
   "source": [
    "### Example 4"
   ]
  },
  {
   "cell_type": "code",
   "execution_count": 6,
   "metadata": {
    "colab": {
     "base_uri": "https://localhost:8080/",
     "height": 35
    },
    "id": "ghm46aVcshOc",
    "outputId": "739626dd-5000-4e06-f6d4-3bf9c16c036b"
   },
   "outputs": [
    {
     "data": {
      "text/plain": [
       "[4, 9, 16, 25]"
      ]
     },
     "execution_count": 6,
     "metadata": {},
     "output_type": "execute_result"
    }
   ],
   "source": [
    "numbers = [2,3,4,5]\n",
    "\n",
    "list(map(lambda a: a**2, numbers)) # We are mapping the lambda function to iterate over the list `numbers`"
   ]
  },
  {
   "cell_type": "markdown",
   "metadata": {
    "id": "jbXhYpyHshOh"
   },
   "source": [
    "## Filtering"
   ]
  },
  {
   "cell_type": "markdown",
   "metadata": {
    "id": "zN_2tI5YshOj"
   },
   "source": [
    "\n",
    "```python\n",
    "    filter (lambda parameter: expression, iterable-sequence)\n",
    "```"
   ]
  },
  {
   "cell_type": "markdown",
   "metadata": {
    "id": "2aLTeEOMshOm"
   },
   "source": [
    "### Example 5"
   ]
  },
  {
   "cell_type": "code",
   "execution_count": 8,
   "metadata": {
    "colab": {
     "base_uri": "https://localhost:8080/"
    },
    "id": "IInhpfusshOn",
    "outputId": "509448d3-fd5e-454e-e264-f3ea0eeab576"
   },
   "outputs": [
    {
     "name": "stdout",
     "output_type": "stream",
     "text": [
      "[10, 8, 7, 5, 11]\n"
     ]
    }
   ],
   "source": [
    "sequences = [10,2,8,7,5,4,3,11,0, 1]\n",
    "\n",
    "# Filter takes an argument/function and an iterable/sequence; in this case, the lambda acts as the filtering argument \n",
    "filtered_result = filter(lambda x: x > 4, sequences)\n",
    "\n",
    "print(list(filtered_result))"
   ]
  }
 ],
 "metadata": {
  "colab": {
   "collapsed_sections": [],
   "name": "lambda_functions.ipynb",
   "provenance": []
  },
  "kernelspec": {
   "display_name": "Python 3 (ipykernel)",
   "language": "python",
   "name": "python3"
  },
  "language_info": {
   "codemirror_mode": {
    "name": "ipython",
    "version": 3
   },
   "file_extension": ".py",
   "mimetype": "text/x-python",
   "name": "python",
   "nbconvert_exporter": "python",
   "pygments_lexer": "ipython3",
   "version": "3.11.5"
  },
  "varInspector": {
   "cols": {
    "lenName": 16,
    "lenType": 16,
    "lenVar": 40
   },
   "kernels_config": {
    "python": {
     "delete_cmd_postfix": "",
     "delete_cmd_prefix": "del ",
     "library": "var_list.py",
     "varRefreshCmd": "print(var_dic_list())"
    },
    "r": {
     "delete_cmd_postfix": ") ",
     "delete_cmd_prefix": "rm(",
     "library": "var_list.r",
     "varRefreshCmd": "cat(var_dic_list()) "
    }
   },
   "types_to_exclude": [
    "module",
    "function",
    "builtin_function_or_method",
    "instance",
    "_Feature"
   ],
   "window_display": false
  }
 },
 "nbformat": 4,
 "nbformat_minor": 1
}
