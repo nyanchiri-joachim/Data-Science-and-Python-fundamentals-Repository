{
 "cells": [
  {
   "cell_type": "markdown",
   "id": "f662d169",
   "metadata": {},
   "source": [
    "# OOP core principles"
   ]
  },
  {
   "cell_type": "markdown",
   "id": "03a71359",
   "metadata": {},
   "source": [
    "### Introduction to classes and objects"
   ]
  },
  {
   "cell_type": "code",
   "execution_count": 3,
   "id": "3358d6ac",
   "metadata": {},
   "outputs": [],
   "source": [
    "class Tree:\n",
    "    def __init__(self, species, height, age):\n",
    "        # Constructor method to initialise the tree's attributes\n",
    "        self.species = species  # The species of the tree\n",
    "        self.height = height    # The height of the tree in meters\n",
    "        self.age = age          # The age of the tree in years\n",
    "\n",
    "    def describe(self):\n",
    "        # Method to describe the tree\n",
    "        return f\"A {self.age}-year-old {self.species} tree, about {self.height} meters tall.\"\n"
   ]
  },
  {
   "cell_type": "markdown",
   "id": "9f2fa5ec",
   "metadata": {},
   "source": [
    "### Encapsulation"
   ]
  },
  {
   "cell_type": "code",
   "execution_count": 2,
   "id": "86aea7ae",
   "metadata": {},
   "outputs": [
    {
     "name": "stdout",
     "output_type": "stream",
     "text": [
      "A 50-year-old Pine tree, about 15 meters tall.\n",
      "Species of the tree: Pine\n",
      "Height of the tree: 15\n"
     ]
    }
   ],
   "source": [
    "# Using the previously defined Tree class\n",
    "\n",
    "# Creating another tree object\n",
    "pine = Tree(\"Pine\", 15, 50)\n",
    "print(pine.describe())\n",
    "\n",
    "# Attempting to access attributes directly\n",
    "print(f\"Species of the tree: {pine.species}\")\n",
    "print(f\"Height of the tree: {pine.height}\")"
   ]
  },
  {
   "cell_type": "markdown",
   "id": "ba7bf1cc",
   "metadata": {},
   "source": [
    "### Inheritance"
   ]
  },
  {
   "cell_type": "code",
   "execution_count": 4,
   "id": "4ac9d01f",
   "metadata": {},
   "outputs": [
    {
     "name": "stdout",
     "output_type": "stream",
     "text": [
      "The Oak tree is budding new leaves.\n",
      "The Pine tree has many cones.\n"
     ]
    }
   ],
   "source": [
    "# Tree class, our base/parent class\n",
    "class Tree:\n",
    "    def __init__(self, species, age, height):\n",
    "        self.species = species\n",
    "        self.age = age\n",
    "        self.height = height\n",
    "\n",
    "    def grow(self):\n",
    "        self.height += 1  # Simplified growth logic\n",
    "\n",
    "    def reseed(self):\n",
    "        print(f\"The {self.species} tree disperses seeds for new trees.\")\n",
    "\n",
    "\n",
    "# Oak and Pine subclasses, our derived/child classes\n",
    "class Oak(Tree):\n",
    "    def budding(self):\n",
    "        print(f\"The {self.species} tree is budding new leaves.\")\n",
    "\n",
    "class Pine(Tree):\n",
    "    def cone_count(self):\n",
    "        print(f\"The {self.species} tree has many cones.\")\n",
    "\n",
    "# Creating objects of the subclasses\n",
    "oak_tree = Oak(\"Oak\", 100, 20)\n",
    "pine_tree = Pine(\"Pine\", 50, 15)\n",
    "\n",
    "# Demonstrating inherited methods\n",
    "oak_tree.grow()\n",
    "pine_tree.grow()\n",
    "\n",
    "# Demonstrating new methods in the subclasses\n",
    "oak_tree.budding()\n",
    "pine_tree.cone_count()\n"
   ]
  },
  {
   "cell_type": "markdown",
   "id": "81f2f7f4",
   "metadata": {},
   "source": [
    "### Polymorphism"
   ]
  },
  {
   "cell_type": "code",
   "execution_count": 5,
   "id": "2b45fcd8",
   "metadata": {},
   "outputs": [
    {
     "name": "stdout",
     "output_type": "stream",
     "text": [
      "Polymorphism in action: A Oak tree grows, increasing its height to 6 meters.\n",
      "Polymorphism in action: A Oak tree disperses seeds to propagate its species.\n",
      "Unique to Oak: As the season changes, the Oak tree begins to develop buds.\n",
      "Polymorphism in action: A Pine tree grows, increasing its height to 9 meters.\n",
      "Polymorphism in action: A Pine tree disperses seeds to propagate its species.\n",
      "Unique to Pine: The Pine tree, apart from growing and reseeding, also counts its cones as part of its unique yearly cycle.\n"
     ]
    }
   ],
   "source": [
    "class Tree:\n",
    "    def __init__(self, species, age, height):\n",
    "        self.species = species\n",
    "        self.age = age\n",
    "        self.height = height\n",
    "\n",
    "    def grow(self):\n",
    "        # Simulate the tree growing taller\n",
    "        self.height += 1\n",
    "        print(f\"Polymorphism in action: A {self.species} tree grows, increasing its height to {self.height} meters.\")\n",
    "\n",
    "    def reseed(self):\n",
    "        # Simulate the tree dispersing seeds\n",
    "        print(f\"Polymorphism in action: A {self.species} tree disperses seeds to propagate its species.\")\n",
    "\n",
    "class Oak(Tree):\n",
    "    def budding(self):\n",
    "        # Simulate an Oak-specific behaviour\n",
    "        print(f\"Unique to Oak: As the season changes, the Oak tree begins to develop buds.\")\n",
    "\n",
    "class Pine(Tree):\n",
    "    def cone_count(self):\n",
    "        # Simulate a Pine-specific behaviour\n",
    "        print(f\"Unique to Pine: The Pine tree, apart from growing and reseeding, also counts its cones as part of its unique yearly cycle.\")\n",
    "\n",
    "# Creating objects of each subclass\n",
    "oak_tree = Oak(\"Oak\", 10, 5)\n",
    "pine_tree = Pine(\"Pine\", 7, 8)\n",
    "\n",
    "# Demonstrating polymorphism with more explanatory print statements\n",
    "for tree in (oak_tree, pine_tree):\n",
    "    tree.grow()    # Both Oak and Pine respond to the grow method\n",
    "    tree.reseed()  # Both Oak and Pine respond to the reseed method\n",
    "    if isinstance(tree, Oak):\n",
    "        tree.budding()  # Only Oak responds to the budding method\n",
    "    elif isinstance(tree, Pine):\n",
    "        tree.cone_count()  # Only Pine responds to the cone_count method\n"
   ]
  },
  {
   "cell_type": "markdown",
   "id": "3fa655dc",
   "metadata": {},
   "source": [
    "### Abstraction "
   ]
  },
  {
   "cell_type": "code",
   "execution_count": 6,
   "id": "b901d084",
   "metadata": {},
   "outputs": [
    {
     "name": "stdout",
     "output_type": "stream",
     "text": [
      "The evergreen tree grows taller by one meter, now standing at 6 meters.\n"
     ]
    }
   ],
   "source": [
    "class Tree:\n",
    "    def __init__(self, species, height, age):\n",
    "        self.species = species\n",
    "        self.height = height\n",
    "        self.age = age\n",
    "\n",
    "    def grow(self):\n",
    "        # Abstract method, details will be defined in the subclass\n",
    "        pass # In Python, the pass statement is used as a placeholder for future code.\n",
    "\n",
    "class EvergreenTree(Tree):\n",
    "    def __init__(self, species, height, age, needle_type):\n",
    "        super().__init__(species, height, age)\n",
    "        self.needle_type = needle_type\n",
    "\n",
    "    def grow(self):\n",
    "        # Implementing the specific way an Evergreen tree grows\n",
    "        self.height += 1\n",
    "        print(f\"The evergreen tree grows taller by one meter, now standing at {self.height} meters.\")\n",
    "\n",
    "# Use the abstraction\n",
    "my_tree = EvergreenTree(\"Spruce\", 5, 20, \"short needles\")\n",
    "my_tree.grow()  # The user doesn't need to know how the tree grows, just that it does"
   ]
  }
 ],
 "metadata": {
  "kernelspec": {
   "display_name": "Python 3 (ipykernel)",
   "language": "python",
   "name": "python3"
  },
  "language_info": {
   "codemirror_mode": {
    "name": "ipython",
    "version": 3
   },
   "file_extension": ".py",
   "mimetype": "text/x-python",
   "name": "python",
   "nbconvert_exporter": "python",
   "pygments_lexer": "ipython3",
   "version": "3.11.5"
  }
 },
 "nbformat": 4,
 "nbformat_minor": 5
}
