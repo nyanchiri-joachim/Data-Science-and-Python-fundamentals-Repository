{
 "cells": [
  {
   "cell_type": "markdown",
   "id": "f662d169",
   "metadata": {},
   "source": [
    "# Loops in Python"
   ]
  },
  {
   "cell_type": "markdown",
   "id": "32e8e15e",
   "metadata": {},
   "source": [
    "## Lists"
   ]
  },
  {
   "cell_type": "code",
   "execution_count": 18,
   "id": "27ad1501",
   "metadata": {},
   "outputs": [],
   "source": [
    "deforestation_rates = [150, 145, 140, 135, 130]\n",
    "deforestation_years = [2010, 2011, 2012, 2013, 2014]"
   ]
  },
  {
   "cell_type": "code",
   "execution_count": 19,
   "id": "a9fb8a69",
   "metadata": {},
   "outputs": [
    {
     "name": "stdout",
     "output_type": "stream",
     "text": [
      "rate = 150\n",
      "rate = 145\n",
      "rate = 140\n",
      "rate = 135\n",
      "rate = 130\n"
     ]
    }
   ],
   "source": [
    "\n",
    "for rate in deforestation_rates:\n",
    "   print(f\"rate = {rate}\")"
   ]
  },
  {
   "cell_type": "code",
   "execution_count": 20,
   "id": "1cd419a5",
   "metadata": {},
   "outputs": [
    {
     "name": "stdout",
     "output_type": "stream",
     "text": [
      "i = 0 - Yearly deforestation rate in 2010 is: 150k hectares\n",
      "i = 1 - Yearly deforestation rate in 2011 is: 145k hectares\n",
      "i = 2 - Yearly deforestation rate in 2012 is: 140k hectares\n",
      "i = 3 - Yearly deforestation rate in 2013 is: 135k hectares\n",
      "i = 4 - Yearly deforestation rate in 2014 is: 130k hectares\n"
     ]
    }
   ],
   "source": [
    "for i in range(len(deforestation_rates)):\n",
    "    rate = deforestation_rates[i]\n",
    "    year = deforestation_years[i]\n",
    "    print(f\"i = {i} - Yearly deforestation rate in {year} is: {rate}k hectares\")"
   ]
  },
  {
   "cell_type": "code",
   "execution_count": 21,
   "id": "be852d56",
   "metadata": {},
   "outputs": [
    {
     "name": "stdout",
     "output_type": "stream",
     "text": [
      "i = 0 - Yearly deforestation rate in 2010 is: 150k hectares\n",
      "i = 1 - Yearly deforestation rate in 2011 is: 145k hectares\n",
      "i = 2 - Yearly deforestation rate in 2012 is: 140k hectares\n",
      "i = 3 - Yearly deforestation rate in 2013 is: 135k hectares\n",
      "i = 4 - Yearly deforestation rate in 2014 is: 130k hectares\n"
     ]
    }
   ],
   "source": [
    "for i, rate in enumerate(deforestation_rates):\n",
    "    year = deforestation_years[i]\n",
    "    print(f\"i = {i} - Yearly deforestation rate in {year} is: {rate}k hectares\")"
   ]
  },
  {
   "cell_type": "markdown",
   "id": "1858a864",
   "metadata": {},
   "source": [
    "## Dictionaries\n",
    "\n",
    "### Basic"
   ]
  },
  {
   "cell_type": "code",
   "execution_count": 22,
   "id": "42975130",
   "metadata": {},
   "outputs": [
    {
     "name": "stdout",
     "output_type": "stream",
     "text": [
      "Dolphins: 12 sightings\n",
      "Whales: 3 sightings\n",
      "Sea Turtles: 7 sightings\n"
     ]
    }
   ],
   "source": [
    "marine_species_count = {\n",
    "    'Dolphins': 12,\n",
    "    'Whales': 3,\n",
    "    'Sea Turtles': 7\n",
    "}\n",
    "\n",
    "for species in marine_species_count:\n",
    "    print(f\"{species}: {marine_species_count[species]} sightings\")\n"
   ]
  },
  {
   "cell_type": "code",
   "execution_count": 23,
   "id": "9e6ecd25",
   "metadata": {},
   "outputs": [
    {
     "name": "stdout",
     "output_type": "stream",
     "text": [
      "Dolphins: 12 sightings\n",
      "Whales: 3 sightings\n",
      "Sea Turtles: 7 sightings\n"
     ]
    }
   ],
   "source": [
    "marine_species_count = {\n",
    "    'Dolphins': 12,\n",
    "    'Whales': 3,\n",
    "    'Sea Turtles': 7\n",
    "}\n",
    "\n",
    "for species, count in marine_species_count.items():\n",
    "    print(f\"{species}: {count} sightings\")"
   ]
  },
  {
   "cell_type": "markdown",
   "id": "7de4dbf1",
   "metadata": {},
   "source": [
    "### Conditional processing in dictionary loop"
   ]
  },
  {
   "cell_type": "code",
   "execution_count": 24,
   "id": "947edf5b",
   "metadata": {},
   "outputs": [
    {
     "name": "stdout",
     "output_type": "stream",
     "text": [
      "Critical deforestation in Amazon: 120 square kilometres\n",
      "Critical deforestation in Southeast Asia: 95 square kilometres\n"
     ]
    }
   ],
   "source": [
    "deforestation_data = {\n",
    "    'Amazon': 120,\n",
    "    'Congo Basin': 80,\n",
    "    'Southeast Asia': 95,\n",
    "    'Eastern Australia': 40\n",
    "}\n",
    "critical_threshold = 90\n",
    "\n",
    "for region, area in deforestation_data.items():\n",
    "    if area > critical_threshold:\n",
    "        print(f\"Critical deforestation in {region}: {area} square kilometres\")\n"
   ]
  },
  {
   "cell_type": "code",
   "execution_count": 25,
   "id": "26e247bd",
   "metadata": {},
   "outputs": [
    {
     "name": "stdout",
     "output_type": "stream",
     "text": [
      "Total deforestation area: 335 square kilometres\n"
     ]
    }
   ],
   "source": [
    "total_deforestation = 0\n",
    "for area in deforestation_data.values():\n",
    "    total_deforestation += area\n",
    "\n",
    "print(f\"Total deforestation area: {total_deforestation} square kilometres\")"
   ]
  },
  {
   "cell_type": "markdown",
   "id": "941fab11",
   "metadata": {},
   "source": [
    "# Nested loops"
   ]
  },
  {
   "cell_type": "code",
   "execution_count": 26,
   "id": "79a1a686",
   "metadata": {},
   "outputs": [],
   "source": [
    "ocean_temperatures = {\n",
    "    'Pacific': [25, 25.3, 25.6, 25.2, 25.5, 25.6],\n",
    "    'Atlantic': [23.4, 23.8, 23.7, 29.9, 24.0, 29.1],\n",
    "    'Indian': [26.5, 26.7, 27.0, -29, -55, -99, -99]\n",
    "}"
   ]
  },
  {
   "cell_type": "code",
   "execution_count": 27,
   "id": "cddd8dd4",
   "metadata": {},
   "outputs": [
    {
     "name": "stdout",
     "output_type": "stream",
     "text": [
      "Ocean: Pacific: sum of all the temperatures in this list: [25, 25.3, 25.6, 25.2, 25.5, 25.6]\n",
      "Ocean: Atlantic: sum of all the temperatures in this list: [23.4, 23.8, 23.7, 29.9, 24.0, 29.1]\n",
      "Ocean: Indian: sum of all the temperatures in this list: [26.5, 26.7, 27.0, -29, -55, -99, -99]\n"
     ]
    }
   ],
   "source": [
    "#Outer loop of oceans\n",
    "for ocean, temperatures in ocean_temperatures.items():\n",
    "        \n",
    "        print(f\"Ocean: {ocean}: sum of all the temperatures in this list: {temperatures}\")"
   ]
  },
  {
   "cell_type": "code",
   "execution_count": 28,
   "id": "bbe8d4b1",
   "metadata": {},
   "outputs": [
    {
     "name": "stdout",
     "output_type": "stream",
     "text": [
      "Ocean: Pacific: Sum = 152.20000000000002\n",
      "Ocean: Atlantic: Sum = 153.9\n",
      "Ocean: Indian: Sum = -201.8\n"
     ]
    }
   ],
   "source": [
    "#Outer loop of oceans\n",
    "for ocean, temperatures in ocean_temperatures.items():\n",
    "    sum_temperatures = 0 # We start with a sum of 0 for each ocean. \n",
    "\n",
    "    #Inner loop of temperatures in each ocean\n",
    "    for temperature in temperatures:\n",
    "        sum_temperatures += temperature #sum all of the temperatures in a list together\n",
    "\n",
    "    print(f\"Ocean: {ocean}: Sum = {sum_temperatures}\")\n"
   ]
  },
  {
   "cell_type": "code",
   "execution_count": 29,
   "id": "bedb3b7c",
   "metadata": {},
   "outputs": [
    {
     "name": "stdout",
     "output_type": "stream",
     "text": [
      "for Pacific there are 6 measurements and the sum is 152.20000000000002 \n",
      "Ocean: Pacific: avg = 25.36666666666667\n",
      "for Atlantic there are 6 measurements and the sum is 153.9 \n",
      "Ocean: Atlantic: avg = 25.650000000000002\n",
      "for Indian there are 7 measurements and the sum is -201.8 \n",
      "Ocean: Indian: avg = -28.82857142857143\n"
     ]
    }
   ],
   "source": [
    "#Outer loop of oceans\n",
    "for ocean, temperatures in ocean_temperatures.items():\n",
    "    sum_temperatures = 0 # We start with a sum of 0 for each ocean. \n",
    "    avg_temperatures  = 0 # We start with an average of 0 for each ocean.\n",
    "\n",
    "    #Inner loop of temperatures in each ocean\n",
    "    for temperature in temperatures:\n",
    "        sum_temperatures += temperature #sum all of the temperatures in a list together\n",
    "   \n",
    "    print(f\"for {ocean} there are {len(temperatures)} measurements and the sum is {sum_temperatures} \") \n",
    "\n",
    "    average_temp = sum_temperatures/len(temperatures) # calculate the average\n",
    "    print(f\"Ocean: {ocean}: avg = {average_temp}\")"
   ]
  },
  {
   "cell_type": "markdown",
   "id": "4c618c6b",
   "metadata": {},
   "source": [
    "## Loop controls"
   ]
  },
  {
   "cell_type": "code",
   "execution_count": 30,
   "id": "671ec85a",
   "metadata": {},
   "outputs": [],
   "source": [
    "ocean_temperatures = {\n",
    "    'Pacific': [25, 25.3, 25.6, 25.2, 25.5, 25.6],\n",
    "    'Atlantic': [23.4, 23.8, 23.7, 29.9, 24.0, 29.1],# A value greater than 29 is an outlier, so we will remove it.\n",
    "    'Indian': [26.5, 26.7, 27.0, -29, -55, -99, -99] # Once it goes below 0°C, the values are not useful\n",
    "}"
   ]
  },
  {
   "cell_type": "code",
   "execution_count": 31,
   "id": "4b92ae37",
   "metadata": {},
   "outputs": [
    {
     "name": "stdout",
     "output_type": "stream",
     "text": [
      "The average temperature for the Pacific Ocean is 25.37°C.\n",
      "Disregarding temperature: 29.9 as an outlier for Atlantic.\n",
      "Disregarding temperature: 29.1 as an outlier for Atlantic.\n",
      "The average temperature for the Atlantic Ocean is 23.73°C.\n",
      "Indian ocean sensor malfunction. Value -29 onward ignored.\n",
      "The average temperature for the Indian Ocean is 26.73°C.\n"
     ]
    }
   ],
   "source": [
    "for ocean, temperatures in ocean_temperatures.items():\n",
    "    sum_temperatures = 0\n",
    "    count_temperatures = 0\n",
    "\n",
    "    # For each ocean, loop through the temperatures lists\n",
    "    for temp in temperatures:\n",
    "        # The ocean temperature is too low, so the sensor is malfunctioning.\n",
    "        if temp < 0: # The ocean temperature is too low, the sensor is malfunctioning. \n",
    "            print(f\"{ocean} ocean sensor malfunction. Value {temp} onward ignored.\") \n",
    "            break #stop using measurements from the sensor\n",
    "\n",
    "        # Imagine we want to disregard temperatures above 27 degrees as outliers\n",
    "        if temp > 29:\n",
    "            print(f\"Disregarding temperature: {temp} as an outlier for {ocean}.\")\n",
    "            continue  # Skip this temperature measurement\n",
    "\n",
    "        sum_temperatures += temp\n",
    "        count_temperatures += 1\n",
    "\n",
    "    # Calculate the average temperature.\n",
    "    average_temp = sum_temperatures / count_temperatures\n",
    "    print(f\"The average temperature for the {ocean} Ocean is {average_temp:.2f}°C.\")\n"
   ]
  },
  {
   "cell_type": "markdown",
   "id": "29ee5309",
   "metadata": {},
   "source": [
    "# List comprehension"
   ]
  },
  {
   "cell_type": "code",
   "execution_count": 36,
   "id": "d0c21484",
   "metadata": {},
   "outputs": [],
   "source": [
    "[expression for item in input_list]"
   ]
  },
  {
   "cell_type": "code",
   "execution_count": 37,
   "id": "623e6984",
   "metadata": {},
   "outputs": [],
   "source": [
    "output_list = [] \n",
    "\n",
    "for item in input_list:\n",
    "    result = expression # item ** 2 for example\n",
    "    output_list.append(result)"
   ]
  },
  {
   "cell_type": "code",
   "execution_count": 38,
   "id": "fae89269",
   "metadata": {},
   "outputs": [
    {
     "name": "stdout",
     "output_type": "stream",
     "text": [
      "[296.4, 296.8, 296.7, 302.9, 297.0, 302.1]\n"
     ]
    }
   ],
   "source": [
    "atlantic_temp_C = [23.4, 23.8, 23.7, 29.9, 24.0, 29.1]\n",
    "\n",
    "atlantic_temp_K = [temp + 273 for temp in atlantic_temp_C]\n",
    "print(atlantic_temp_K)"
   ]
  },
  {
   "cell_type": "markdown",
   "id": "a122ce45",
   "metadata": {},
   "source": [
    "Instead of this: "
   ]
  },
  {
   "cell_type": "code",
   "execution_count": 39,
   "id": "79185d31",
   "metadata": {},
   "outputs": [
    {
     "name": "stdout",
     "output_type": "stream",
     "text": [
      "[296.4, 296.8, 296.7, 302.9, 297.0, 302.1]\n"
     ]
    }
   ],
   "source": [
    "atlantic_temp_K = []\n",
    "\n",
    "for temp in atlantic_temp_C:\n",
    "    temp += 273\n",
    "    atlantic_temp_K.append(temp)\n",
    "\n",
    "print(atlantic_temp_K)"
   ]
  },
  {
   "cell_type": "code",
   "execution_count": 43,
   "id": "b1c97217",
   "metadata": {},
   "outputs": [],
   "source": [
    "[expression for item in input_list if condition else condition]"
   ]
  },
  {
   "cell_type": "code",
   "execution_count": 50,
   "id": "10a782ff",
   "metadata": {},
   "outputs": [
    {
     "data": {
      "text/plain": [
       "[26.5, 26.7, 27.0]"
      ]
     },
     "execution_count": 50,
     "metadata": {},
     "output_type": "execute_result"
    }
   ],
   "source": [
    "Indian_temp_C = [26.5, 26.7, 27.0, -29, -55, -99, -99]\n",
    "\n",
    "[temp for temp in Indian_temp_C if temp > 0]"
   ]
  },
  {
   "cell_type": "code",
   "execution_count": 51,
   "id": "f90fb0ec",
   "metadata": {},
   "outputs": [
    {
     "data": {
      "text/plain": [
       "[26.5, 26.7, 27.0]"
      ]
     },
     "execution_count": 51,
     "metadata": {},
     "output_type": "execute_result"
    }
   ],
   "source": [
    "Indian_temp_C = [26.5, 26.7, 27.0, -29, -55, -99, -99]\n",
    "\n",
    "[temp for temp in Indian_temp_C if temp > 0 if temp < 29]"
   ]
  },
  {
   "cell_type": "markdown",
   "id": "971bd177",
   "metadata": {},
   "source": [
    "Or we could use an `and` operator to check both conditions. "
   ]
  },
  {
   "cell_type": "code",
   "execution_count": 52,
   "id": "f4233739",
   "metadata": {},
   "outputs": [
    {
     "data": {
      "text/plain": [
       "[26.5, 26.7, 27.0]"
      ]
     },
     "execution_count": 52,
     "metadata": {},
     "output_type": "execute_result"
    }
   ],
   "source": [
    "Indian_temp_C = [26.5, 26.7, 27.0, -29, -55, -99, -99]\n",
    "\n",
    "[temp for temp in Indian_temp_C if temp > 0 and temp < 29]"
   ]
  },
  {
   "cell_type": "code",
   "execution_count": 53,
   "id": "bddf1791",
   "metadata": {},
   "outputs": [
    {
     "name": "stdout",
     "output_type": "stream",
     "text": [
      "[299.5, 299.7, 300.0]\n"
     ]
    }
   ],
   "source": [
    "Indian_temp_K = [temp + 273 for temp in Indian_temp_C if temp > 0 and temp < 29]\n",
    "print(Indian_temp_K)"
   ]
  },
  {
   "cell_type": "markdown",
   "id": "2c46c611",
   "metadata": {},
   "source": [
    "# Dictionary comprehension"
   ]
  },
  {
   "cell_type": "code",
   "execution_count": null,
   "id": "1c35e97c",
   "metadata": {},
   "outputs": [],
   "source": [
    "{key_expression: value_expression for item in iterator}"
   ]
  },
  {
   "cell_type": "code",
   "execution_count": 54,
   "id": "2b48f7c5",
   "metadata": {},
   "outputs": [
    {
     "name": "stdout",
     "output_type": "stream",
     "text": [
      "{1: 1, 2: 4, 3: 9, 4: 16, 5: 25, 6: 36, 7: 49, 8: 64, 9: 81, 10: 100}\n"
     ]
    }
   ],
   "source": [
    "numbers = range(1,11)\n",
    "numbers_and_squares = {x: x**2 for x in numbers}\n",
    "print(numbers_and_squares)"
   ]
  },
  {
   "cell_type": "markdown",
   "id": "65ed6d95",
   "metadata": {},
   "source": [
    "Or we could create a copy of the `ocean_temperatures` dictionary with the oceans as the keys, and retrieve the first temperature in `temperatures`."
   ]
  },
  {
   "cell_type": "code",
   "execution_count": 55,
   "id": "cbbef6af",
   "metadata": {},
   "outputs": [
    {
     "name": "stdout",
     "output_type": "stream",
     "text": [
      "{'Pacific': 25, 'Atlantic': 23.4, 'Indian': 26.5}\n"
     ]
    }
   ],
   "source": [
    "ocean_temperatures = {\n",
    "    'Pacific': [25, 25.3, 25.6, 25.2, 25.5, 25.6],\n",
    "    'Atlantic': [23.4, 23.8, 23.7, 29.9, 24.0, 29.1],  # Exclude > 29\n",
    "    'Indian': [26.5, 26.7, 27.0, -29, -55, -99, -99]    # Exclude < 0\n",
    "}\n",
    "\n",
    "# Using dictionary comprehension\n",
    "ocean_temp_C = {\n",
    "    ocean: temps[0] for ocean, temps in ocean_temperatures.items()\n",
    "}\n",
    "\n",
    "print(ocean_temp_C)"
   ]
  }
 ],
 "metadata": {
  "kernelspec": {
   "display_name": "Python 3 (ipykernel)",
   "language": "python",
   "name": "python3"
  },
  "language_info": {
   "codemirror_mode": {
    "name": "ipython",
    "version": 3
   },
   "file_extension": ".py",
   "mimetype": "text/x-python",
   "name": "python",
   "nbconvert_exporter": "python",
   "pygments_lexer": "ipython3",
   "version": "3.11.5"
  }
 },
 "nbformat": 4,
 "nbformat_minor": 5
}
