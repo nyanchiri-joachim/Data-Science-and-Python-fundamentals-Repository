{
 "cells": [
  {
   "cell_type": "markdown",
   "metadata": {
    "id": "Ee-v8I_P8rfp"
   },
   "source": [
    "# Examples: Big O notation"
   ]
  },
  {
   "cell_type": "markdown",
   "metadata": {
    "id": "ITqrvAqq8xSC"
   },
   "source": [
    "## Learning objectives"
   ]
  },
  {
   "cell_type": "markdown",
   "metadata": {},
   "source": [
    "## Big O notation and complexity\n",
    "<div align=\"center\" style=\" text-align: center; margin: 0 auto\">\n",
    "<img src=\"https://github.com/Explore-AI/Pictures/blob/421d8c55ebe6caa30836ba3c5785232d3eab84ad/Big-O.png?raw=True\"\n",
    "     alt=\"Spark Logo\"\n",
    "     style=\"padding-bottom=0.5em\"\n",
    "     width=600px/>\n",
    "     <br>\n",
    "          <em> Figure 1: Visualisation of the time complexities of various algorithms.<em>\n",
    "</div>\n",
    "\n"
   ]
  },
  {
   "cell_type": "markdown",
   "metadata": {},
   "source": [
    "### O(1)\n",
    "\n",
    "`O(1)`, known as constant time, represents an algorithm that will always execute in the same time, or space, independent of the input size."
   ]
  },
  {
   "cell_type": "code",
   "execution_count": 2,
   "metadata": {},
   "outputs": [],
   "source": [
    "def is_first_element_null(elements):\n",
    "    return elements[0] == None"
   ]
  },
  {
   "cell_type": "markdown",
   "metadata": {},
   "source": [
    "### O(N)\n",
    "\n",
    "`O(N)`, known as  linear time, represents an algorithm whose performance will grow linearly and in direct proportion to the size of the input. "
   ]
  },
  {
   "cell_type": "code",
   "execution_count": 3,
   "metadata": {},
   "outputs": [],
   "source": [
    "def contains_value(elements, string_value):\n",
    "    \"\"\"Run through all elements in the list and compare to string_value.\"\"\"\n",
    "    for e in elements:\n",
    "        if e == string_value:\n",
    "            return True\n",
    "    return False"
   ]
  },
  {
   "cell_type": "markdown",
   "metadata": {},
   "source": [
    "### $O(N^2)$\n",
    "\n",
    "$O(N^2)$, known as quadratic time, represents an algorithm whose performance is directly proportional to the square of the size of the input. \n",
    "\n",
    "This is common with algorithms that involve nested iterations over the dataset. Deeper nested iterations will result in $O(N^3)$), $O(N^4)$, etc."
   ]
  },
  {
   "cell_type": "code",
   "execution_count": 4,
   "metadata": {},
   "outputs": [],
   "source": [
    "def contains_duplicates(elements):\n",
    "    \"\"\"Check if any element in a list occurs more than once\"\"\"\n",
    "    for i, e1 in enumerate(elements):\n",
    "        for j, e2 in enumerate(elements):\n",
    "            \"\"\"return a true if the elements indices are different and the elements are the same\"\"\"\n",
    "            if ((i != j) & (e1 == e2)):\n",
    "                return True\n",
    "    return False"
   ]
  },
  {
   "cell_type": "markdown",
   "metadata": {},
   "source": [
    "### $O(2^N)$\n",
    "\n",
    "$O(2^N)$, known as exponential time, denotes an algorithm whose growth doubles with each addition to the input dataset. The growth curve of an $O(2^N)$ function is exponential – starting shallow, then rising meteorically. \n",
    "\n",
    "An example of an $O(2^N)$ function is the recursive calculation of Fibonacci numbers."
   ]
  },
  {
   "cell_type": "code",
   "execution_count": 5,
   "metadata": {},
   "outputs": [],
   "source": [
    "def fibonacci(number):\n",
    "    \"\"\"\n",
    "    The Fibonacci sequence is characterised by the fact that every number \n",
    "    after the first two is the sum of the two preceding ones        \n",
    "    \"\"\"\n",
    "    if number <= 1:\n",
    "        return 1\n",
    "    return fibonacci(number - 2) + fibonacci(number - 1)\n"
   ]
  },
  {
   "cell_type": "markdown",
   "metadata": {},
   "source": [
    "### O(logN)\n",
    "\n",
    "Logarithms are slightly trickier to explain. O(logN) means that time increases linearly while _n_ increases exponentially. This complexity occurs with \"divide and conquer\" algorithms like binary search, as seen in the figure below."
   ]
  },
  {
   "cell_type": "markdown",
   "metadata": {},
   "source": [
    "\n",
    "<div align=\"center\" style=\" text-align: center; margin: 0 auto\">\n",
    "<img src=\"https://github.com/Explore-AI/Pictures/blob/master/binary-search.png?raw=true\"\n",
    "     alt=\"Spark Logo\"\n",
    "     style=\"padding-bottom=0.5em\"\n",
    "     width=600px/>\n",
    "     <br>\n",
    "          <em> Figure 1: Binary search algorithm representation.<em>\n",
    "</div>"
   ]
  },
  {
   "cell_type": "markdown",
   "metadata": {},
   "source": [
    "The recursion continues until the array examined consists of only one element.\n",
    "Below is an example of a binary search algorithm."
   ]
  },
  {
   "cell_type": "code",
   "execution_count": 6,
   "metadata": {},
   "outputs": [],
   "source": [
    "#Create a binary search algorithm as represented in the image\n",
    "def binary_search(elements, string_val):\n",
    "\n",
    "    if len(elements) == 1:\n",
    "        return 0 if elements[0] == string_val else None\n",
    "    \n",
    "    mid = len(elements) // 2\n",
    "    if string_val == elements[mid]:\n",
    "        return mid\n",
    "    \n",
    "    if string_val < elements[mid]:\n",
    "        return binary_search(elements[:mid], string_val)\n",
    "    else:\n",
    "        return mid + binary_search(elements[mid:], string_val)"
   ]
  },
  {
   "cell_type": "code",
   "execution_count": 7,
   "metadata": {},
   "outputs": [
    {
     "data": {
      "text/plain": [
       "4"
      ]
     },
     "execution_count": 7,
     "metadata": {},
     "output_type": "execute_result"
    }
   ],
   "source": [
    "#Implement binary_search\n",
    "binary_search([1, 2, 3, 4, 5, 6, 7, 8, 9, 10], 5)"
   ]
  },
  {
   "cell_type": "markdown",
   "metadata": {},
   "source": [
    "## Conclusion\n",
    "\n",
    "Understanding computational complexity and Big O notation is crucial for assessing the **efficiency and scalability of algorithms**. It allows developers to make informed decisions about algorithm selection, particularly when dealing with large datasets or resource-constrained environments. By providing a **standardised way to express the upper bounds on an algorithm's time and space requirements**, Big O notation facilitates comparisons and predictions of performance. For example, an algorithm with $O(2^N)$ time complexity may become impractical for large inputs, while an O(logN) algorithm is more scalable. This knowledge empowers developers to **optimise code**, **choose appropriate algorithms**, and **design systems** that can handle varying workloads, ultimately leading to more efficient and robust software solutions."
   ]
  },
  {
   "cell_type": "markdown",
   "metadata": {},
   "source": [
    "<div align=\"center\" style=\" font-size: 80%; text-align: center; margin: 0 auto\">\n",
    "<img src=\"https://raw.githubusercontent.com/Explore-AI/Pictures/master/ExploreAI_logos/EAI_Blue_Dark.png\"  style=\"width:200px\";/>\n",
    "</div>"
   ]
  }
 ],
 "metadata": {
  "colab": {
   "authorship_tag": "ABX9TyPZFCZhaikX+N2/Bg7W6SY+",
   "collapsed_sections": [],
   "name": "Search_algorithms.ipynb",
   "provenance": [],
   "toc_visible": true
  },
  "interpreter": {
   "hash": "6b5ebbc2c6bde2831bc6c0426f75aca8137ccfc69d329557556ed73faee126ae"
  },
  "kernelspec": {
   "display_name": "Python 3 (ipykernel)",
   "language": "python",
   "name": "python3"
  },
  "language_info": {
   "codemirror_mode": {
    "name": "ipython",
    "version": 3
   },
   "file_extension": ".py",
   "mimetype": "text/x-python",
   "name": "python",
   "nbconvert_exporter": "python",
   "pygments_lexer": "ipython3",
   "version": "3.11.5"
  }
 },
 "nbformat": 4,
 "nbformat_minor": 2
}
