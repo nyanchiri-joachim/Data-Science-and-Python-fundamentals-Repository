{
 "cells": [
  {
   "cell_type": "markdown",
   "id": "f662d169",
   "metadata": {},
   "source": [
    "# Regular expressions"
   ]
  },
  {
   "cell_type": "markdown",
   "id": "42dba616",
   "metadata": {},
   "source": [
    "Given a paragraph about conservation efforts, split the text into individual sentences using regular expressions."
   ]
  },
  {
   "cell_type": "code",
   "execution_count": 1,
   "id": "62341cd8",
   "metadata": {},
   "outputs": [
    {
     "name": "stdout",
     "output_type": "stream",
     "text": [
      "['Conservation efforts are increasing', 'Habitats are being restored', 'Species are recovering.']\n"
     ]
    }
   ],
   "source": [
    "import re\n",
    "\n",
    "text = \"Conservation efforts are increasing. Habitats are being restored. Species are recovering.\"\n",
    "sentences = re.split(r\"\\. \", text)\n",
    "\n",
    "print(sentences)"
   ]
  },
  {
   "cell_type": "markdown",
   "id": "f5363a1c",
   "metadata": {},
   "source": [
    "Extract all numbers followed by \"acres\" to find references to land area in a text. Utilise `re.compile` to create a regex pattern that matches this format."
   ]
  },
  {
   "cell_type": "code",
   "execution_count": 2,
   "id": "636046ab",
   "metadata": {},
   "outputs": [
    {
     "name": "stdout",
     "output_type": "stream",
     "text": [
      "['5000 acres', '750 acres']\n"
     ]
    }
   ],
   "source": [
    "import re\n",
    "\n",
    "text = \"The national park covers 5000 acres, while the community forest spans 750 acres.\"\n",
    "\n",
    "# Compiling the regex pattern\n",
    "pattern = re.compile(r'\\d+\\s*acres', re.IGNORECASE)\n",
    "\n",
    "# Finding all occurrences of land area\n",
    "land_areas = pattern.findall(text)\n",
    "\n",
    "print(land_areas)"
   ]
  },
  {
   "cell_type": "markdown",
   "id": "7d892fee",
   "metadata": {},
   "source": [
    "Given a text with various animal and plant species names formatted as 'Genus Species', compile a regex object to find all occurrences of these species' names in the text."
   ]
  },
  {
   "cell_type": "code",
   "execution_count": 3,
   "id": "6477dc99",
   "metadata": {},
   "outputs": [
    {
     "name": "stdout",
     "output_type": "stream",
     "text": [
      "['In the', 'Amazon rainforest', 'Panthera onca', 'Inia geoffrensis', 'Euterpe precatoria']\n"
     ]
    }
   ],
   "source": [
    "import re\n",
    "\n",
    "pattern = re.compile(r'\\b[A-Z][a-z]* [a-z]+\\b')\n",
    "text = \"In the Amazon rainforest, species like Panthera onca, Inia geoffrensis, and Euterpe precatoria are found.\"\n",
    "\n",
    "species = pattern.findall(text)\n",
    "print(species)"
   ]
  },
  {
   "cell_type": "markdown",
   "id": "1d4f8974",
   "metadata": {},
   "source": [
    "Given a text containing different plant names related to sustainable land management, extract all occurrences of specific plants. The names to extract are \"oak\", \"maple\", and \"pine\". Use `re.compile` to optimise the pattern matching."
   ]
  },
  {
   "cell_type": "code",
   "execution_count": null,
   "id": "ed0b4be6",
   "metadata": {},
   "outputs": [],
   "source": [
    "import re\n",
    "\n",
    "text = \"The forest had a variety of trees including oak, maple, and pine. Other species included birch and spruce.\"\n",
    "\n",
    "# Compiling the regex pattern\n",
    "pattern = re.compile(r'\\boak\\b|\\bmaple\\b|\\bpine\\b', re.IGNORECASE)\n",
    "\n",
    "# Finding all occurrences of the specified plants\n",
    "found_plants = pattern.findall(text)\n",
    "\n",
    "print(found_plants)\n"
   ]
  }
 ],
 "metadata": {
  "kernelspec": {
   "display_name": "Python 3 (ipykernel)",
   "language": "python",
   "name": "python3"
  },
  "language_info": {
   "codemirror_mode": {
    "name": "ipython",
    "version": 3
   },
   "file_extension": ".py",
   "mimetype": "text/x-python",
   "name": "python",
   "nbconvert_exporter": "python",
   "pygments_lexer": "ipython3",
   "version": "3.11.5"
  }
 },
 "nbformat": 4,
 "nbformat_minor": 5
}
