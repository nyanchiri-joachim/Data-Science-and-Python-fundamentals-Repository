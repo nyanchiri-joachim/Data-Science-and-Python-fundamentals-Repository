{
 "cells": [
  {
   "cell_type": "markdown",
   "id": "a8af169d",
   "metadata": {},
   "source": [
    "\n",
    "# Conditional execution"
   ]
  },
  {
   "cell_type": "markdown",
   "id": "4e87f977",
   "metadata": {},
   "source": [
    "## `if`, `elif`, and `else`"
   ]
  },
  {
   "cell_type": "markdown",
   "id": "01552ed6",
   "metadata": {},
   "source": [
    "### `if` statements"
   ]
  },
  {
   "cell_type": "code",
   "execution_count": 1,
   "id": "022e4c2d",
   "metadata": {},
   "outputs": [
    {
     "name": "stdout",
     "output_type": "stream",
     "text": [
      "Critical deforestation level reached!\n"
     ]
    }
   ],
   "source": [
    "# Check if the deforestation rate exceeds 20% and print a warning if it does.\n",
    "deforestation_rate = 0.25  # 25%\n",
    "if deforestation_rate > 0.2:\n",
    "    print(\"Critical deforestation level reached!\")"
   ]
  },
  {
   "cell_type": "markdown",
   "id": "bf6ce8e1",
   "metadata": {},
   "source": [
    "### Nested `if` statements"
   ]
  },
  {
   "cell_type": "code",
   "execution_count": 2,
   "id": "9aad6834",
   "metadata": {},
   "outputs": [
    {
     "name": "stdout",
     "output_type": "stream",
     "text": [
      "Urgent action needed in protected area due to high deforestation rate!\n"
     ]
    }
   ],
   "source": [
    "# Check if the deforestation rate exceeds 15% in a protected area and print an urgent action message if it does.\n",
    "deforestation_rate = 0.18\n",
    "protected_area = True\n",
    "\n",
    "if deforestation_rate > 0.15:\n",
    "    if protected_area:  # \"if protected_area:\" is equivalent to \"if protected_area == True\"\n",
    "        print(\"Urgent action needed in protected area due to high deforestation rate!\")"
   ]
  },
  {
   "cell_type": "markdown",
   "id": "c8c1d501",
   "metadata": {},
   "source": [
    "\n",
    "### `if`-`else` statements"
   ]
  },
  {
   "cell_type": "code",
   "execution_count": 3,
   "id": "c2d9580c",
   "metadata": {},
   "outputs": [
    {
     "name": "stdout",
     "output_type": "stream",
     "text": [
      "Alert: Deforestation detected!\n"
     ]
    }
   ],
   "source": [
    "# Print a deforestation alert message if the alert is active, otherwise indicate no alerts.\n",
    "deforestation_alert = True\n",
    "\n",
    "if deforestation_alert:\n",
    "    print(\"Alert: Deforestation detected!\")\n",
    "else:\n",
    "    print(\"No deforestation alerts.\")"
   ]
  },
  {
   "cell_type": "markdown",
   "id": "33eccaef",
   "metadata": {},
   "source": [
    "\n",
    "### `elif` statements"
   ]
  },
  {
   "cell_type": "code",
   "execution_count": 4,
   "id": "06697073",
   "metadata": {},
   "outputs": [
    {
     "name": "stdout",
     "output_type": "stream",
     "text": [
      "Normal level\n"
     ]
    }
   ],
   "source": [
    "# Classify and print the deforestation rate as 'Critical level', 'High level', or 'Normal level'\n",
    "# based on its percentage.\n",
    "deforestation_rate = 0.10\n",
    "\n",
    "if deforestation_rate > 0.2:\n",
    "    print(\"Critical level\")\n",
    "elif deforestation_rate > 0.1:\n",
    "    print(\"High level\")\n",
    "else:\n",
    "    print(\"Normal level\")"
   ]
  },
  {
   "cell_type": "markdown",
   "id": "ea660160",
   "metadata": {},
   "source": [
    "### Chained conditional statements"
   ]
  },
  {
   "cell_type": "code",
   "execution_count": 5,
   "id": "f82492dc",
   "metadata": {},
   "outputs": [
    {
     "name": "stdout",
     "output_type": "stream",
     "text": [
      "Monitor and plan reforestation\n"
     ]
    }
   ],
   "source": [
    "# Determine and print appropriate environmental actions based on the current deforestation rate level.\n",
    "deforestation_rate = 0.12\n",
    "\n",
    "if deforestation_rate > 0.3:\n",
    "    print(\"Implement emergency measures\")\n",
    "elif deforestation_rate > 0.2:\n",
    "    print(\"Increase surveillance and conservation efforts\")\n",
    "elif deforestation_rate > 0.1:\n",
    "    print(\"Monitor and plan reforestation\")\n",
    "else:\n",
    "    print(\"Deforestation rate is within safe limits\")"
   ]
  },
  {
   "cell_type": "code",
   "execution_count": 6,
   "id": "3b777710",
   "metadata": {},
   "outputs": [
    {
     "name": "stdout",
     "output_type": "stream",
     "text": [
      "Deforestation has reached the maximum safe limit\n"
     ]
    }
   ],
   "source": [
    "# Determine and print appropriate environmental actions based on the current deforestation rate level.\n",
    "deforestation_rate = 0.1\n",
    "\n",
    "if deforestation_rate > 0.3:\n",
    "    print(\"Implement emergency measures\")\n",
    "elif deforestation_rate > 0.2:\n",
    "    print(\"Increase surveillance and conservation efforts\")\n",
    "elif deforestation_rate == 0.1:\n",
    "    print(\"Deforestation has reached the maximum safe limit\")\n",
    "elif deforestation_rate >= 0.1:\n",
    "    print(\"Monitor and plan reforestation\")\n",
    "else:\n",
    "    print(\"Deforestation rate is within safe limits\")"
   ]
  },
  {
   "cell_type": "markdown",
   "id": "dd6543bd",
   "metadata": {},
   "source": [
    "## Conditional statement keywords: `not` and `pass`"
   ]
  },
  {
   "cell_type": "markdown",
   "id": "2a557f3a",
   "metadata": {},
   "source": [
    "### `if` `not` statements"
   ]
  },
  {
   "cell_type": "code",
   "execution_count": 7,
   "id": "029337fc",
   "metadata": {},
   "outputs": [
    {
     "name": "stdout",
     "output_type": "stream",
     "text": [
      "Forest is healthy!\n"
     ]
    }
   ],
   "source": [
    "# Prints \"Forest is healthy!\" if no deforestation is detected, otherwise alerts that deforestation has\n",
    "# been detected.\n",
    "deforestation_detected = False\n",
    "\n",
    "if not deforestation_detected:\n",
    "    print(\"Forest is healthy!\")\n",
    "else:\n",
    "    print(\"Deforestation detected!\")"
   ]
  },
  {
   "cell_type": "markdown",
   "id": "d625a111",
   "metadata": {},
   "source": [
    "### `pass` statements"
   ]
  },
  {
   "cell_type": "code",
   "execution_count": 11,
   "id": "8f1dce5a",
   "metadata": {},
   "outputs": [
    {
     "name": "stdout",
     "output_type": "stream",
     "text": [
      "No immediate action required\n"
     ]
    }
   ],
   "source": [
    "# This code will result in an error because the 'if' block is empty.\n",
    "deforestation_rate = 0.05\n",
    "\n",
    "if deforestation_rate > 0.1:\n",
    "    # Some action if deforestation rate is high\n",
    "    print(\"Take immediate action!\")\n",
    "else:\n",
    "    print(\"No immediate action required\")\n"
   ]
  },
  {
   "cell_type": "code",
   "execution_count": 12,
   "id": "83770931",
   "metadata": {},
   "outputs": [],
   "source": [
    "# Placeholder for future alert implementation if deforestation rate exceeds 10%, otherwise prints \n",
    "# no immediate action is needed.\n",
    "deforestation_rate = 0.22\n",
    "\n",
    "if deforestation_rate > 0.1:\n",
    "    pass  # Future implementation of alert system\n",
    "else:\n",
    "    print(\"No immediate action required\")"
   ]
  },
  {
   "cell_type": "markdown",
   "id": "b6547470",
   "metadata": {},
   "source": [
    "\n",
    "## Ternary operator"
   ]
  },
  {
   "cell_type": "code",
   "execution_count": 13,
   "id": "156235bb",
   "metadata": {},
   "outputs": [
    {
     "name": "stdout",
     "output_type": "stream",
     "text": [
      "Deforestation status: Normal\n"
     ]
    }
   ],
   "source": [
    "# Sets and prints the deforestation status based on the deforestation rate.\n",
    "deforestation_rate = 0.07\n",
    "status = \"High\" if deforestation_rate > 0.1 else \"Normal\"\n",
    "\n",
    "print(f\"Deforestation status: {status}\")"
   ]
  }
 ],
 "metadata": {
  "kernelspec": {
   "display_name": "Python 3 (ipykernel)",
   "language": "python",
   "name": "python3"
  },
  "language_info": {
   "codemirror_mode": {
    "name": "ipython",
    "version": 3
   },
   "file_extension": ".py",
   "mimetype": "text/x-python",
   "name": "python",
   "nbconvert_exporter": "python",
   "pygments_lexer": "ipython3",
   "version": "3.11.5"
  }
 },
 "nbformat": 4,
 "nbformat_minor": 5
}
