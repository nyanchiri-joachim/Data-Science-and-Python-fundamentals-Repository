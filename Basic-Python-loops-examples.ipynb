{
 "cells": [
  {
   "cell_type": "markdown",
   "id": "f662d169",
   "metadata": {},
   "source": [
    "# Basic Python loops"
   ]
  },
  {
   "cell_type": "code",
   "execution_count": 1,
   "id": "b4092a88",
   "metadata": {},
   "outputs": [
    {
     "name": "stdout",
     "output_type": "stream",
     "text": [
      "Great White Shark\n",
      "Blue Whale\n",
      "African Elephant\n",
      "Bald Eagle\n"
     ]
    }
   ],
   "source": [
    "# List of animals (both endangered and not)\n",
    "animals = ['Great White Shark', 'Blue Whale', 'African Elephant',  'Bald Eagle', 'Orangutan', 'Tiger', 'Panda', 'Koala']\n",
    "\n",
    "print(animals[0])\n",
    "print(animals[1])\n",
    "print(animals[2])\n",
    "print(animals[3])\n",
    "# etc."
   ]
  },
  {
   "cell_type": "markdown",
   "id": "fa8e720a",
   "metadata": {},
   "source": [
    "* **`for` loops:**"
   ]
  },
  {
   "cell_type": "code",
   "execution_count": 2,
   "id": "bce5cebd",
   "metadata": {},
   "outputs": [
    {
     "name": "stdout",
     "output_type": "stream",
     "text": [
      "0\n",
      "1\n",
      "2\n",
      "3\n",
      "4\n",
      "5\n"
     ]
    }
   ],
   "source": [
    "list_of_numbers =[0,1,2,3,4,5]\n",
    "for i in list_of_numbers:\n",
    "    # Loop body\n",
    "    print(i)"
   ]
  },
  {
   "cell_type": "markdown",
   "id": "b62e376f",
   "metadata": {},
   "source": [
    "* **`while` loops:**"
   ]
  },
  {
   "cell_type": "code",
   "execution_count": 3,
   "id": "9ebd964b",
   "metadata": {},
   "outputs": [
    {
     "name": "stdout",
     "output_type": "stream",
     "text": [
      "0\n",
      "1\n",
      "2\n",
      "3\n",
      "4\n"
     ]
    }
   ],
   "source": [
    "i = 0\n",
    "\n",
    "while i < 5:\n",
    "    print(i)\n",
    "    i += 1"
   ]
  },
  {
   "cell_type": "markdown",
   "id": "0ea9be03",
   "metadata": {},
   "source": [
    "\n",
    "## For loops\n",
    "### Syntax and structure"
   ]
  },
  {
   "cell_type": "code",
   "execution_count": 5,
   "id": "497ece26",
   "metadata": {},
   "outputs": [
    {
     "name": "stdout",
     "output_type": "stream",
     "text": [
      "Great White Shark\n",
      "Blue Whale\n",
      "African Elephant\n",
      "Bald Eagle\n",
      "Orangutan\n",
      "Tiger\n",
      "Panda\n",
      "Koala\n"
     ]
    }
   ],
   "source": [
    "for animal in animals:\n",
    "    print(animal)"
   ]
  },
  {
   "cell_type": "code",
   "execution_count": 6,
   "id": "ca284495",
   "metadata": {},
   "outputs": [
    {
     "name": "stdout",
     "output_type": "stream",
     "text": [
      "Great White Shark\n",
      "Blue Whale\n",
      "African Elephant\n",
      "Bald Eagle\n",
      "Orangutan\n",
      "Tiger\n",
      "Panda\n",
      "Koala\n",
      " We saw these animals:\n",
      " ['Great White Shark', 'Blue Whale', 'African Elephant', 'Bald Eagle', 'Orangutan', 'Tiger', 'Panda', 'Koala']\n"
     ]
    }
   ],
   "source": [
    "animals_we_have_seen = [] #This is an empty list of animals we have encountered\n",
    "\n",
    "for animal in animals:\n",
    "    print(animal)\n",
    "    animals_we_have_seen.append(animal) #add the animal to the \"seen\" list.\n",
    "\n",
    "print(f\" We saw these animals:\\n {animals_we_have_seen}\")"
   ]
  },
  {
   "cell_type": "markdown",
   "id": "59162bff",
   "metadata": {},
   "source": [
    "We can loop through any iterable data structure like tuples, sets, dictionaries, and even strings:"
   ]
  },
  {
   "cell_type": "code",
   "execution_count": 7,
   "id": "b3b20316",
   "metadata": {},
   "outputs": [],
   "source": [
    "animals_tuple = ('Great White Shark', 'Blue Whale', 'African Elephant',  'Bald Eagle', 'Orangutan', 'Tiger', 'Tiger', 'Panda', 'Koala')\n",
    "animals_set= set(animals_tuple)\n",
    "animal_string = \"Great White Shark\""
   ]
  },
  {
   "cell_type": "code",
   "execution_count": 8,
   "id": "22106d60",
   "metadata": {},
   "outputs": [
    {
     "name": "stdout",
     "output_type": "stream",
     "text": [
      "Tuple:\n",
      "Great White Shark\n",
      "Blue Whale\n",
      "African Elephant\n",
      "Bald Eagle\n",
      "Orangutan\n",
      "Tiger\n",
      "Tiger\n",
      "Panda\n",
      "Koala\n"
     ]
    }
   ],
   "source": [
    "print(\"Tuple:\")\n",
    "for animal in animals_tuple:\n",
    "    print(animal) "
   ]
  },
  {
   "cell_type": "code",
   "execution_count": 9,
   "id": "93dd5f17",
   "metadata": {},
   "outputs": [
    {
     "name": "stdout",
     "output_type": "stream",
     "text": [
      "Set:\n",
      "Panda\n",
      "Great White Shark\n",
      "Tiger\n",
      "Blue Whale\n",
      "Orangutan\n",
      "Bald Eagle\n",
      "Koala\n",
      "African Elephant\n"
     ]
    }
   ],
   "source": [
    "print(\"Set:\")\n",
    "for animal in animals_set:\n",
    "    print(animal) \n"
   ]
  },
  {
   "cell_type": "code",
   "execution_count": 10,
   "id": "afff0ba4",
   "metadata": {},
   "outputs": [
    {
     "name": "stdout",
     "output_type": "stream",
     "text": [
      "String:\n",
      "G\n",
      "r\n",
      "e\n",
      "a\n",
      "t\n",
      " \n",
      "W\n",
      "h\n",
      "i\n",
      "t\n",
      "e\n",
      " \n",
      "S\n",
      "h\n",
      "a\n",
      "r\n",
      "k\n"
     ]
    }
   ],
   "source": [
    "\n",
    "print(\"String:\")\n",
    "for letter in animal_string:\n",
    "    print(letter) "
   ]
  },
  {
   "cell_type": "markdown",
   "id": "94b8d21a",
   "metadata": {},
   "source": [
    "## While loops"
   ]
  },
  {
   "cell_type": "code",
   "execution_count": null,
   "id": "860cdb21",
   "metadata": {},
   "outputs": [],
   "source": [
    "while condition:\n",
    "    # Loop body"
   ]
  },
  {
   "cell_type": "code",
   "execution_count": null,
   "id": "dfb4702e",
   "metadata": {},
   "outputs": [],
   "source": [
    "population = 1 #We start at 0\n",
    "\n",
    "while population < 3:\n",
    "    print(population) # We print out the value of population\n",
    "    population *= 1.1 # And add 10% to it."
   ]
  },
  {
   "cell_type": "code",
   "execution_count": null,
   "id": "6e1eee50",
   "metadata": {},
   "outputs": [],
   "source": [
    "count = 0\n",
    "while count >= 0:  # This condition is always true\n",
    "    print(\"This will go on forever!\")"
   ]
  },
  {
   "cell_type": "markdown",
   "id": "4258be2a",
   "metadata": {},
   "source": [
    "## Loop controls"
   ]
  },
  {
   "cell_type": "markdown",
   "id": "47e5bc79",
   "metadata": {},
   "source": [
    "### `break` statement"
   ]
  },
  {
   "cell_type": "code",
   "execution_count": null,
   "id": "98119661",
   "metadata": {},
   "outputs": [],
   "source": [
    "# Searching for a specific number in a list\n",
    "animals = ['Great White Shark', 'Blue Whale', 'African Elephant',  'Bald Eagle', 'Orangutan', 'Tiger', 'Panda', 'Koala']\n",
    "\n",
    "for animal in animals:\n",
    "    print(animal)\n",
    "    if animal == 'African Elephant':\n",
    "        print(\"African Elephant found\")\n",
    "        break #Once African Elephant is found, the loop stops, so 'Bald Eagle', 'Orangutan', 'Tiger', 'Panda', 'Koala' are not printed.\n",
    "\n",
    "print(f\"The last animal checked = {animal}\")"
   ]
  },
  {
   "cell_type": "markdown",
   "id": "567039e2",
   "metadata": {},
   "source": [
    "### `continue` statement"
   ]
  },
  {
   "cell_type": "code",
   "execution_count": null,
   "id": "36da9e80",
   "metadata": {},
   "outputs": [],
   "source": [
    "for animal in animals:\n",
    "    \n",
    "    if animal == 'African Elephant':\n",
    "        continue #Once African Elephant is found, the code in the rest of the loop is not executed, so African Elephant found is not printed.\n",
    "    print(animal)"
   ]
  },
  {
   "cell_type": "markdown",
   "id": "d916dd3d",
   "metadata": {},
   "source": [
    "### `pass` statement"
   ]
  },
  {
   "cell_type": "markdown",
   "id": "2e15454a",
   "metadata": {},
   "source": [
    "Suppose we want to check all animals, but skip `African Elephants`:"
   ]
  },
  {
   "cell_type": "code",
   "execution_count": null,
   "id": "ae3162ae",
   "metadata": {},
   "outputs": [],
   "source": [
    "#This code will produce an error because it is expecting code in the if-statement. \n",
    "for animal in animals:\n",
    "    if animal == 'African Elephant':\n",
    "        #Do Nothing\n",
    "    else: \n",
    "        print (f\"{animal} is not an African Elephant\")\n"
   ]
  },
  {
   "cell_type": "code",
   "execution_count": null,
   "id": "a6f7150c",
   "metadata": {},
   "outputs": [],
   "source": [
    "# By adding pass, the code still runs\n",
    "for animal in animals:\n",
    "    if animal == 'African Elephant':\n",
    "        pass #Skip elephants\n",
    "    else: \n",
    "        print (f\"{animal} is not an African Elephant\")\n"
   ]
  },
  {
   "cell_type": "code",
   "execution_count": null,
   "id": "9341969b",
   "metadata": {},
   "outputs": [],
   "source": [
    "# By improving our logic, we avoid the use of pass. \n",
    "for animal in animals:\n",
    "    if animal != 'African Elephant': #If the animal is not an elephant, then...\n",
    "        print (f\"{animal} is not an African Elephant\")"
   ]
  },
  {
   "cell_type": "code",
   "execution_count": null,
   "id": "ca4c3430",
   "metadata": {},
   "outputs": [],
   "source": []
  }
 ],
 "metadata": {
  "kernelspec": {
   "display_name": "Python 3 (ipykernel)",
   "language": "python",
   "name": "python3"
  },
  "language_info": {
   "codemirror_mode": {
    "name": "ipython",
    "version": 3
   },
   "file_extension": ".py",
   "mimetype": "text/x-python",
   "name": "python",
   "nbconvert_exporter": "python",
   "pygments_lexer": "ipython3",
   "version": "3.11.5"
  }
 },
 "nbformat": 4,
 "nbformat_minor": 5
}
