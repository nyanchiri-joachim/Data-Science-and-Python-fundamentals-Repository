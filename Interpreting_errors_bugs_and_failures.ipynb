{
 "cells": [
  {
   "cell_type": "markdown",
   "metadata": {},
   "source": [
    "# Interpreting errors, bugs, and failures"
   ]
  },
  {
   "cell_type": "markdown",
   "metadata": {},
   "source": [
    "## Errors, bugs, faults, failures\n",
    "\n",
    "### Types of errors\n",
    "\n",
    "Some of these are detectable by a programming debugger, while others require the application of the testing strategies. \n",
    "\n",
    "We review some of these errors below using examples from Python.\n",
    "\n",
    "#### Compile-time error\n",
    "\n",
    "errors discovered when a program is **evaluated by a code compiler** before it is run. Often a **syntax error**)."
   ]
  },
  {
   "cell_type": "code",
   "execution_count": 2,
   "metadata": {},
   "outputs": [
    {
     "ename": "SyntaxError",
     "evalue": "invalid syntax (808728125.py, line 1)",
     "output_type": "error",
     "traceback": [
      "\u001b[1;36m  Cell \u001b[1;32mIn[2], line 1\u001b[1;36m\u001b[0m\n\u001b[1;33m    product = x y\u001b[0m\n\u001b[1;37m                ^\u001b[0m\n\u001b[1;31mSyntaxError\u001b[0m\u001b[1;31m:\u001b[0m invalid syntax\n"
     ]
    }
   ],
   "source": [
    "product = x y"
   ]
  },
  {
   "cell_type": "markdown",
   "metadata": {},
   "source": [
    "#### Run-time error\n",
    "\n",
    "Run-time errors occur when a program's structure is correct but becomes unstable once executed: "
   ]
  },
  {
   "cell_type": "code",
   "execution_count": 3,
   "metadata": {},
   "outputs": [
    {
     "ename": "ZeroDivisionError",
     "evalue": "division by zero",
     "output_type": "error",
     "traceback": [
      "\u001b[1;31m---------------------------------------------------------------------------\u001b[0m",
      "\u001b[1;31mZeroDivisionError\u001b[0m                         Traceback (most recent call last)",
      "Cell \u001b[1;32mIn[3], line 2\u001b[0m\n\u001b[0;32m      1\u001b[0m x \u001b[38;5;241m=\u001b[39m \u001b[38;5;241m0\u001b[39m\n\u001b[1;32m----> 2\u001b[0m y \u001b[38;5;241m=\u001b[39m \u001b[38;5;241m15\u001b[39m\u001b[38;5;241m/\u001b[39mx\n",
      "\u001b[1;31mZeroDivisionError\u001b[0m: division by zero"
     ]
    }
   ],
   "source": [
    "x = 0\n",
    "y = 15/x"
   ]
  },
  {
   "cell_type": "markdown",
   "metadata": {},
   "source": [
    "#### Logic error\n",
    "\n",
    "Logic errors describe instances where a program compiles and is stable during execution, yet still produces incorrect results. "
   ]
  },
  {
   "cell_type": "code",
   "execution_count": 5,
   "metadata": {},
   "outputs": [
    {
     "name": "stdout",
     "output_type": "stream",
     "text": [
      "The function output is: 15\n"
     ]
    }
   ],
   "source": [
    "def add (x, y):\n",
    "    return x * y\n",
    "\n",
    "result = add(5,3)\n",
    "print (f\"The function output is: {result}\")"
   ]
  },
  {
   "cell_type": "markdown",
   "metadata": {},
   "source": [
    "## Testing methods\n",
    "`range_checker` "
   ]
  },
  {
   "cell_type": "code",
   "execution_count": 6,
   "metadata": {
    "jupyter": {
     "outputs_hidden": true
    }
   },
   "outputs": [],
   "source": [
    "def range_checker(x):\n",
    "    \"\"\"Function that accepts only integers from 0 to 100, both 0 and 100 included.\"\"\" \n",
    "    if x < 1 or x > 100:\n",
    "        print (\"ERROR\")\n",
    "    else:\n",
    "        print (\"SUCCESS\")"
   ]
  },
  {
   "cell_type": "markdown",
   "metadata": {},
   "source": [
    "### Equivalence classes"
   ]
  },
  {
   "cell_type": "code",
   "execution_count": 7,
   "metadata": {},
   "outputs": [
    {
     "name": "stdout",
     "output_type": "stream",
     "text": [
      "ERROR\n"
     ]
    }
   ],
   "source": [
    "# Edit this value to reflect values from the equivalence classes we defined above:\n",
    "a = -50 \n",
    "\n",
    "range_checker(a)"
   ]
  },
  {
   "cell_type": "markdown",
   "metadata": {},
   "source": [
    "### Boundary values"
   ]
  },
  {
   "cell_type": "code",
   "execution_count": 8,
   "metadata": {},
   "outputs": [
    {
     "name": "stdout",
     "output_type": "stream",
     "text": [
      "ERROR\n"
     ]
    }
   ],
   "source": [
    "# Edit this value to reflect boundary values we defined above:\n",
    "a = 0\n",
    "\n",
    "range_checker(a)"
   ]
  },
  {
   "cell_type": "markdown",
   "metadata": {},
   "source": [
    "### Path testing"
   ]
  },
  {
   "cell_type": "code",
   "execution_count": 9,
   "metadata": {},
   "outputs": [
    {
     "name": "stdout",
     "output_type": "stream",
     "text": [
      "error in a\n",
      "no error in b\n"
     ]
    }
   ],
   "source": [
    "a = 0 # edit this value\n",
    "b = 30 # edit this value\n",
    "\n",
    "def decision(a, b):\n",
    "    if a < 25:\n",
    "        print(\"error in a\")\n",
    "    else: \n",
    "        print(\"no error in a\")\n",
    "    if b < 25:\n",
    "        print(\"error in b\")\n",
    "    else: \n",
    "        print(\"no error in b\")\n",
    "        \n",
    "decision(a,b)"
   ]
  },
  {
   "cell_type": "markdown",
   "metadata": {},
   "source": [
    "## Finding errors\n",
    "### Tracing"
   ]
  },
  {
   "cell_type": "code",
   "execution_count": 10,
   "metadata": {},
   "outputs": [
    {
     "name": "stdout",
     "output_type": "stream",
     "text": [
      "Z equals: 103\n"
     ]
    }
   ],
   "source": [
    "# Code illustrating the practice of tracing to help debug code. \n",
    "# Choose different integer values for y, x and z to successfully reach the last trace instruction. \n",
    "y = 7\n",
    "x = y*y*2\n",
    "z = x+5\n",
    "\n",
    "print(f'Z equals: {z}')      # <-- Trace instruction. The program will output the current version of z at this point,  \n",
    "if z == 13:   #     before it is evaluated by the conditional if statement.\n",
    "    print('I got here') # <--Trace instruction. Used to check if we entered the conditional statement correctly. "
   ]
  },
  {
   "cell_type": "markdown",
   "metadata": {},
   "source": [
    "### Use a debugger"
   ]
  }
 ],
 "metadata": {
  "kernelspec": {
   "display_name": "Python 3 (ipykernel)",
   "language": "python",
   "name": "python3"
  },
  "language_info": {
   "codemirror_mode": {
    "name": "ipython",
    "version": 3
   },
   "file_extension": ".py",
   "mimetype": "text/x-python",
   "name": "python",
   "nbconvert_exporter": "python",
   "pygments_lexer": "ipython3",
   "version": "3.11.5"
  }
 },
 "nbformat": 4,
 "nbformat_minor": 4
}
